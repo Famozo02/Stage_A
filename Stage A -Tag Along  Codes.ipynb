{
 "cells": [
  {
   "cell_type": "markdown",
   "id": "e903bdd6",
   "metadata": {},
   "source": [
    "# STAGE A TAG-ALONG CODES"
   ]
  },
  {
   "cell_type": "markdown",
   "id": "f4ed1157",
   "metadata": {},
   "source": [
    "INTRODUCTION TO PYTHON FOR MACHINE LEARNING TAG ALONG CODES"
   ]
  },
  {
   "cell_type": "markdown",
   "id": "6cebe809",
   "metadata": {},
   "source": [
    "Answers to the second part of the Quiz using the African food production dataset provided by the FAO."
   ]
  },
  {
   "cell_type": "code",
   "execution_count": 5,
   "id": "fec06722",
   "metadata": {},
   "outputs": [],
   "source": [
    "import pandas as pd\n",
    "f_a=pd.read_csv(\"FoodBalanceSheets_E_Africa_NOFLAG (1).csv\", encoding=\"latin1\")"
   ]
  },
  {
   "cell_type": "code",
   "execution_count": 6,
   "id": "69b6cf5c",
   "metadata": {},
   "outputs": [
    {
     "data": {
      "text/html": [
       "<div>\n",
       "<style scoped>\n",
       "    .dataframe tbody tr th:only-of-type {\n",
       "        vertical-align: middle;\n",
       "    }\n",
       "\n",
       "    .dataframe tbody tr th {\n",
       "        vertical-align: top;\n",
       "    }\n",
       "\n",
       "    .dataframe thead th {\n",
       "        text-align: right;\n",
       "    }\n",
       "</style>\n",
       "<table border=\"1\" class=\"dataframe\">\n",
       "  <thead>\n",
       "    <tr style=\"text-align: right;\">\n",
       "      <th></th>\n",
       "      <th>Area Code</th>\n",
       "      <th>Area</th>\n",
       "      <th>Item Code</th>\n",
       "      <th>Item</th>\n",
       "      <th>Element Code</th>\n",
       "      <th>Element</th>\n",
       "      <th>Unit</th>\n",
       "      <th>Y2014</th>\n",
       "      <th>Y2015</th>\n",
       "      <th>Y2016</th>\n",
       "      <th>Y2017</th>\n",
       "      <th>Y2018</th>\n",
       "    </tr>\n",
       "  </thead>\n",
       "  <tbody>\n",
       "    <tr>\n",
       "      <th>0</th>\n",
       "      <td>4</td>\n",
       "      <td>Algeria</td>\n",
       "      <td>2501</td>\n",
       "      <td>Population</td>\n",
       "      <td>511</td>\n",
       "      <td>Total Population - Both sexes</td>\n",
       "      <td>1000 persons</td>\n",
       "      <td>38924.00</td>\n",
       "      <td>39728.00</td>\n",
       "      <td>40551.00</td>\n",
       "      <td>41389.00</td>\n",
       "      <td>42228.00</td>\n",
       "    </tr>\n",
       "    <tr>\n",
       "      <th>1</th>\n",
       "      <td>4</td>\n",
       "      <td>Algeria</td>\n",
       "      <td>2501</td>\n",
       "      <td>Population</td>\n",
       "      <td>5301</td>\n",
       "      <td>Domestic supply quantity</td>\n",
       "      <td>1000 tonnes</td>\n",
       "      <td>0.00</td>\n",
       "      <td>0.00</td>\n",
       "      <td>0.00</td>\n",
       "      <td>0.00</td>\n",
       "      <td>0.00</td>\n",
       "    </tr>\n",
       "    <tr>\n",
       "      <th>2</th>\n",
       "      <td>4</td>\n",
       "      <td>Algeria</td>\n",
       "      <td>2901</td>\n",
       "      <td>Grand Total</td>\n",
       "      <td>664</td>\n",
       "      <td>Food supply (kcal/capita/day)</td>\n",
       "      <td>kcal/capita/day</td>\n",
       "      <td>3377.00</td>\n",
       "      <td>3379.00</td>\n",
       "      <td>3372.00</td>\n",
       "      <td>3341.00</td>\n",
       "      <td>3322.00</td>\n",
       "    </tr>\n",
       "    <tr>\n",
       "      <th>3</th>\n",
       "      <td>4</td>\n",
       "      <td>Algeria</td>\n",
       "      <td>2901</td>\n",
       "      <td>Grand Total</td>\n",
       "      <td>674</td>\n",
       "      <td>Protein supply quantity (g/capita/day)</td>\n",
       "      <td>g/capita/day</td>\n",
       "      <td>94.90</td>\n",
       "      <td>94.35</td>\n",
       "      <td>94.72</td>\n",
       "      <td>92.82</td>\n",
       "      <td>91.83</td>\n",
       "    </tr>\n",
       "    <tr>\n",
       "      <th>4</th>\n",
       "      <td>4</td>\n",
       "      <td>Algeria</td>\n",
       "      <td>2901</td>\n",
       "      <td>Grand Total</td>\n",
       "      <td>684</td>\n",
       "      <td>Fat supply quantity (g/capita/day)</td>\n",
       "      <td>g/capita/day</td>\n",
       "      <td>80.06</td>\n",
       "      <td>79.36</td>\n",
       "      <td>77.40</td>\n",
       "      <td>80.19</td>\n",
       "      <td>77.28</td>\n",
       "    </tr>\n",
       "  </tbody>\n",
       "</table>\n",
       "</div>"
      ],
      "text/plain": [
       "   Area Code     Area  Item Code         Item  Element Code  \\\n",
       "0          4  Algeria       2501   Population           511   \n",
       "1          4  Algeria       2501   Population          5301   \n",
       "2          4  Algeria       2901  Grand Total           664   \n",
       "3          4  Algeria       2901  Grand Total           674   \n",
       "4          4  Algeria       2901  Grand Total           684   \n",
       "\n",
       "                                  Element             Unit     Y2014  \\\n",
       "0           Total Population - Both sexes     1000 persons  38924.00   \n",
       "1                Domestic supply quantity      1000 tonnes      0.00   \n",
       "2           Food supply (kcal/capita/day)  kcal/capita/day   3377.00   \n",
       "3  Protein supply quantity (g/capita/day)     g/capita/day     94.90   \n",
       "4      Fat supply quantity (g/capita/day)     g/capita/day     80.06   \n",
       "\n",
       "      Y2015     Y2016     Y2017     Y2018  \n",
       "0  39728.00  40551.00  41389.00  42228.00  \n",
       "1      0.00      0.00      0.00      0.00  \n",
       "2   3379.00   3372.00   3341.00   3322.00  \n",
       "3     94.35     94.72     92.82     91.83  \n",
       "4     79.36     77.40     80.19     77.28  "
      ]
     },
     "execution_count": 6,
     "metadata": {},
     "output_type": "execute_result"
    }
   ],
   "source": [
    "df.head()"
   ]
  },
  {
   "cell_type": "markdown",
   "id": "cfff6ce8",
   "metadata": {},
   "source": [
    "#  What is the total sum of Wine produced in 2015 and 2018 respectively?"
   ]
  },
  {
   "cell_type": "code",
   "execution_count": 6,
   "id": "14086873",
   "metadata": {},
   "outputs": [
    {
     "name": "stdout",
     "output_type": "stream",
     "text": [
      "4251.81\n",
      "4039.32\n"
     ]
    }
   ],
   "source": [
    "f_a.groupby('Item').sum()\n",
    "A=pd.DataFrame(f_a.groupby('Item').sum())\n",
    "print(A.at['Wine','Y2015'])\n",
    "print(A.at['Wine','Y2018'])"
   ]
  },
  {
   "cell_type": "markdown",
   "id": "7f93d2ec",
   "metadata": {},
   "source": [
    "# What is the mean and standard deviation across the whole dataset for the year 2017 to 2 decimal places?"
   ]
  },
  {
   "cell_type": "code",
   "execution_count": 27,
   "id": "4e54fa8b",
   "metadata": {},
   "outputs": [
    {
     "name": "stdout",
     "output_type": "stream",
     "text": [
      "140.918\n",
      "1671.862\n"
     ]
    }
   ],
   "source": [
    "f_a.describe()\n",
    "B=pd.DataFrame(f_a.describe())\n",
    "decimal_format = \"{:.3f}\".format(B.at['mean','Y2017'])\n",
    "decimal_format1 = \"{:.3f}\".format(B.at['std','Y2017'])\n",
    "print(decimal_format)\n",
    "print(decimal_format1)\n"
   ]
  },
  {
   "cell_type": "markdown",
   "id": "f0016137",
   "metadata": {},
   "source": [
    "# What is the total number and percentage of missing data in 2014 to 3 decimal places?"
   ]
  },
  {
   "cell_type": "code",
   "execution_count": 28,
   "id": "6da4601f",
   "metadata": {},
   "outputs": [
    {
     "name": "stdout",
     "output_type": "stream",
     "text": [
      "1535 and 2.52 %\n"
     ]
    }
   ],
   "source": [
    "f_a.isnull().sum()\n",
    "C=pd.DataFrame(f_a.isnull().sum())\n",
    "D=C.iat[9,0]\n",
    "E=len(f_a)\n",
    "Percentage=(D/E)*100\n",
    "Percentage_format = \"{:.2f}\".format(Percentage)\n",
    "print(D, 'and' , Percentage_format,'%')"
   ]
  },
  {
   "cell_type": "markdown",
   "id": "e3526498",
   "metadata": {},
   "source": [
    "#  Which year had the least correlation with ‘Element Code’?"
   ]
  },
  {
   "cell_type": "code",
   "execution_count": 9,
   "id": "069d16ec",
   "metadata": {},
   "outputs": [
    {
     "name": "stdout",
     "output_type": "stream",
     "text": [
      "0.1282844672996681\n",
      "0.1254596929964542\n",
      "0.12381721378789941\n",
      "0.12920400412461072\n",
      "0.12888513118822403\n",
      "Y2016 had the least correlation with Element Code\n"
     ]
    }
   ],
   "source": [
    "f_a.groupby('Element Code').sum()\n",
    "F=pd.DataFrame(f_a.groupby('Element Code').sum())\n",
    "P=F.reset_index()\n",
    "print(P['Element Code'].corr(P['Y2014']))\n",
    "print(P['Element Code'].corr(P['Y2015']))\n",
    "print(P['Element Code'].corr(P['Y2016']))\n",
    "print(P['Element Code'].corr(P['Y2017']))\n",
    "print(P['Element Code'].corr(P['Y2018']))\n",
    "\n",
    "print('Y2016 had the least correlation with Element Code')"
   ]
  },
  {
   "cell_type": "markdown",
   "id": "00d1c6a7",
   "metadata": {},
   "source": [
    "# Perform a groupby operation on ‘Element’.  What year has the highest sum of Stock Variation?"
   ]
  },
  {
   "cell_type": "code",
   "execution_count": 10,
   "id": "76f1686f",
   "metadata": {},
   "outputs": [
    {
     "name": "stdout",
     "output_type": "stream",
     "text": [
      "Area Code                                                  571566\n",
      "Area            AlgeriaAlgeriaAlgeriaAlgeriaAlgeriaAlgeriaAlge...\n",
      "Item Code                                                11329527\n",
      "Item            Cereals - Excluding BeerWheat and productsRice...\n",
      "Element Code                                             21464704\n",
      "Element         Stock VariationStock VariationStock VariationS...\n",
      "Unit            1000 tonnes1000 tonnes1000 tonnes1000 tonnes10...\n",
      "Y2014                                                    58749.83\n",
      "Y2015                                                    34910.99\n",
      "Y2016                                                    33140.12\n",
      "Y2017                                                    54316.91\n",
      "Y2018                                                    20577.91\n",
      "dtype: object\n",
      "The year with the highest sum of stock variation is 2014\n"
     ]
    }
   ],
   "source": [
    "G=pd.DataFrame(f_a)\n",
    "G1=pd.DataFrame(G[G['Element'].eq('Stock Variation')]).sum()\n",
    "print(G1)\n",
    "print('The year with the highest sum of stock variation is 2014')"
   ]
  },
  {
   "cell_type": "markdown",
   "id": "f5e42744",
   "metadata": {},
   "source": [
    "#  Perform a groupby operation on ‘Element’.  What is the total number of the sum of Processing in 2017?"
   ]
  },
  {
   "cell_type": "code",
   "execution_count": 31,
   "id": "4edacb49",
   "metadata": {},
   "outputs": [
    {
     "name": "stdout",
     "output_type": "stream",
     "text": [
      "                                             Y2017\n",
      "Element                                           \n",
      "Domestic supply quantity                2088198.10\n",
      "Export Quantity                          182338.80\n",
      "Fat supply quantity (g/capita/day)        10253.84\n",
      "Feed                                     223705.68\n",
      "Food                                    1258888.28\n",
      "Food supply (kcal/capita/day)            454681.00\n",
      "Food supply quantity (kg/capita/yr)       48690.04\n",
      "Import Quantity                          294559.09\n",
      "Losses                                   160614.00\n",
      "Other uses (non-food)                     91645.97\n",
      "Processing                               292836.00\n",
      "Production                              2030056.89\n",
      "Protein supply quantity (g/capita/day)    11842.45\n",
      "Residuals                                 35500.00\n",
      "Seed                                      24870.14\n",
      "Stock Variation                           54316.91\n",
      "Total Population - Both sexes           1112641.00\n",
      "Tourist consumption                          91.00\n",
      "292836.0\n"
     ]
    }
   ],
   "source": [
    "f_a.groupby('Element')['Y2017'].sum()\n",
    "H=pd.DataFrame(f_a.groupby('Element')['Y2017'].sum())\n",
    "print(H)\n",
    "o=H.at['Processing','Y2017']\n",
    "print(o)"
   ]
  },
  {
   "cell_type": "markdown",
   "id": "b524e80c",
   "metadata": {},
   "source": [
    "#  Select columns ‘Y2017’ and ‘Area’, Perform a groupby operation on ‘Area’.  Which of these Areas had the highest sum in 2017?"
   ]
  },
  {
   "cell_type": "code",
   "execution_count": 8,
   "id": "2a9fe3a2",
   "metadata": {},
   "outputs": [
    {
     "name": "stdout",
     "output_type": "stream",
     "text": [
      "                                  Y2017\n",
      "Area                                   \n",
      "Algeria                       325644.27\n",
      "Angola                        229159.57\n",
      "Benin                         124771.22\n",
      "Botswana                       22101.30\n",
      "Burkina Faso                  101855.07\n",
      "Cabo Verde                     14650.74\n",
      "Cameroon                      232030.43\n",
      "Central African Republic       29937.00\n",
      "Chad                           71594.68\n",
      "Comoros                           59.84\n",
      "Congo                          41181.68\n",
      "Côte d'Ivoire                 224599.01\n",
      "Djibouti                       22729.91\n",
      "Egypt                         866379.92\n",
      "Eswatini                       54343.33\n",
      "Ethiopia                      448683.76\n",
      "Ethiopia PDR                       0.00\n",
      "Gabon                          27979.64\n",
      "Gambia                         23154.18\n",
      "Ghana                         337599.06\n",
      "Guinea                         98138.87\n",
      "Guinea-Bissau                  19102.77\n",
      "Kenya                         264660.66\n",
      "Lesotho                        21267.96\n",
      "Liberia                        29342.20\n",
      "Madagascar                    131197.73\n",
      "Malawi                        181098.71\n",
      "Mali                          149928.33\n",
      "Mauritania                    156665.46\n",
      "Mauritius                      51114.83\n",
      "Morocco                       388495.36\n",
      "Mozambique                    161407.98\n",
      "Namibia                        29874.89\n",
      "Niger                         126707.58\n",
      "Nigeria                      1483268.23\n",
      "Rwanda                         73663.69\n",
      "Sao Tome and Principe          12662.63\n",
      "Senegal                        95681.15\n",
      "Seychelles                       442.34\n",
      "Sierra Leone                   55311.33\n",
      "South Africa                  517590.54\n",
      "Sudan                         239931.92\n",
      "Sudan (former)                     0.00\n",
      "Togo                           49841.88\n",
      "Tunisia                       124167.20\n",
      "Uganda                        213950.38\n",
      "United Republic of Tanzania   322616.85\n",
      "Zambia                        103223.77\n",
      "Zimbabwe                       75919.34\n",
      "Nigeria has the highest sum\n"
     ]
    }
   ],
   "source": [
    "f_a.groupby('Area')['Y2017'].sum()\n",
    "I=pd.DataFrame(f_a.groupby('Area')['Y2017'].sum())\n",
    "print(I)\n",
    "\n",
    "print(\"Nigeria has the highest sum\")"
   ]
  },
  {
   "cell_type": "markdown",
   "id": "431ee137",
   "metadata": {},
   "source": [
    "# Select columns ‘Y2017’ and ‘Area’, Perform a groupby operation on ‘Area’.  Which of these Areas had the 7th lowest sum in 2017?"
   ]
  },
  {
   "cell_type": "code",
   "execution_count": 33,
   "id": "a217808b",
   "metadata": {},
   "outputs": [
    {
     "data": {
      "text/plain": [
       "Area\n",
       "Algeria                        43.0\n",
       "Angola                         38.0\n",
       "Benin                          29.0\n",
       "Botswana                        9.0\n",
       "Burkina Faso                   26.0\n",
       "Cabo Verde                      6.0\n",
       "Cameroon                       39.0\n",
       "Central African Republic       15.0\n",
       "Chad                           21.0\n",
       "Comoros                         3.0\n",
       "Congo                          16.0\n",
       "Côte d'Ivoire                  37.0\n",
       "Djibouti                       10.0\n",
       "Egypt                          48.0\n",
       "Eswatini                       19.0\n",
       "Ethiopia                       46.0\n",
       "Ethiopia PDR                    1.5\n",
       "Gabon                          12.0\n",
       "Gambia                         11.0\n",
       "Ghana                          44.0\n",
       "Guinea                         25.0\n",
       "Guinea-Bissau                   7.0\n",
       "Kenya                          41.0\n",
       "Lesotho                         8.0\n",
       "Liberia                        13.0\n",
       "Madagascar                     31.0\n",
       "Malawi                         35.0\n",
       "Mali                           32.0\n",
       "Mauritania                     33.0\n",
       "Mauritius                      18.0\n",
       "Morocco                        45.0\n",
       "Mozambique                     34.0\n",
       "Namibia                        14.0\n",
       "Niger                          30.0\n",
       "Nigeria                        49.0\n",
       "Rwanda                         22.0\n",
       "Sao Tome and Principe           5.0\n",
       "Senegal                        24.0\n",
       "Seychelles                      4.0\n",
       "Sierra Leone                   20.0\n",
       "South Africa                   47.0\n",
       "Sudan                          40.0\n",
       "Sudan (former)                  1.5\n",
       "Togo                           17.0\n",
       "Tunisia                        28.0\n",
       "Uganda                         36.0\n",
       "United Republic of Tanzania    42.0\n",
       "Zambia                         27.0\n",
       "Zimbabwe                       23.0\n",
       "Name: Y2017, dtype: float64"
      ]
     },
     "execution_count": 33,
     "metadata": {},
     "output_type": "execute_result"
    }
   ],
   "source": [
    "f_a.groupby('Area')['Y2017'].sum()\n",
    "J=pd.DataFrame(f_a.groupby('Area')['Y2017'].sum())\n",
    "J\n",
    "J[\"Y2017\"].rank()"
   ]
  },
  {
   "cell_type": "markdown",
   "id": "dfe4ad40",
   "metadata": {},
   "source": [
    "# What is the total Protein supply quantity in Madagascar in 2015?"
   ]
  },
  {
   "cell_type": "code",
   "execution_count": 15,
   "id": "6572465d",
   "metadata": {},
   "outputs": [
    {
     "name": "stdout",
     "output_type": "stream",
     "text": [
      "       Area Code        Area  Item Code           Item  Element Code  \\\n",
      "30715        129  Madagascar       2501     Population           511   \n",
      "30716        129  Madagascar       2501     Population          5301   \n",
      "30717        129  Madagascar       2901    Grand Total           664   \n",
      "30718        129  Madagascar       2901    Grand Total           674   \n",
      "30719        129  Madagascar       2901    Grand Total           684   \n",
      "...          ...         ...        ...            ...           ...   \n",
      "32149        129  Madagascar       2899  Miscellaneous          5142   \n",
      "32150        129  Madagascar       2899  Miscellaneous           645   \n",
      "32151        129  Madagascar       2899  Miscellaneous           664   \n",
      "32152        129  Madagascar       2899  Miscellaneous           674   \n",
      "32153        129  Madagascar       2899  Miscellaneous           684   \n",
      "\n",
      "                                      Element             Unit     Y2014  \\\n",
      "30715           Total Population - Both sexes     1000 persons  23590.00   \n",
      "30716                Domestic supply quantity      1000 tonnes      0.00   \n",
      "30717           Food supply (kcal/capita/day)  kcal/capita/day   1986.00   \n",
      "30718  Protein supply quantity (g/capita/day)     g/capita/day     44.45   \n",
      "30719      Fat supply quantity (g/capita/day)     g/capita/day     22.18   \n",
      "...                                       ...              ...       ...   \n",
      "32149                                    Food      1000 tonnes     10.00   \n",
      "32150     Food supply quantity (kg/capita/yr)               kg      0.44   \n",
      "32151           Food supply (kcal/capita/day)  kcal/capita/day      0.00   \n",
      "32152  Protein supply quantity (g/capita/day)     g/capita/day      0.01   \n",
      "32153      Fat supply quantity (g/capita/day)     g/capita/day      0.01   \n",
      "\n",
      "          Y2015     Y2016     Y2017     Y2018  \n",
      "30715  24234.00  24894.00  25571.00  26262.00  \n",
      "30716      0.00      0.00      0.00      0.00  \n",
      "30717   1922.00   1918.00   1943.00   1938.00  \n",
      "30718     43.26     43.35     43.94     44.17  \n",
      "30719     22.97     23.83     25.26     24.12  \n",
      "...         ...       ...       ...       ...  \n",
      "32149     11.00     11.00     11.00     12.00  \n",
      "32150      0.44      0.44      0.44      0.44  \n",
      "32151      0.00      0.00      0.00      0.00  \n",
      "32152      0.01      0.01      0.01      0.01  \n",
      "32153      0.01      0.01      0.01      0.01  \n",
      "\n",
      "[1439 rows x 12 columns]\n"
     ]
    }
   ],
   "source": [
    "k=pd.DataFrame(f_a)\n",
    "K3=pd.DataFrame(k[k['Area'].eq('Madagascar')])\n",
    "K8=pd.DataFrame(K3)\n",
    "print(K8)\n",
    "#K5=K8[['Area','Element','Y2015']]\n",
    "#K6=pd.DataFrame(K5)\n",
    "#K7=(K6.loc[K6['Element']=='Protein supply']).sum()\n",
    "#print(K7)\n",
    "#  Protein supply quantity in Madagascar in 2015"
   ]
  },
  {
   "cell_type": "markdown",
   "id": "33ac056e",
   "metadata": {},
   "source": [
    "#  The total number of unique countries in the dataset is"
   ]
  },
  {
   "cell_type": "code",
   "execution_count": 89,
   "id": "0c97b8d0",
   "metadata": {},
   "outputs": [
    {
     "name": "stdout",
     "output_type": "stream",
     "text": [
      "Area Code       49\n",
      "Item Code       49\n",
      "Element Code    49\n",
      "Y2014           48\n",
      "Y2015           48\n",
      "Y2016           48\n",
      "Y2017           48\n",
      "Y2018           48\n",
      "dtype: int64\n",
      "The total number of unique countries in the dataset is 49\n"
     ]
    }
   ],
   "source": [
    "f_a.groupby(['Area']).sum()\n",
    "L=pd.DataFrame(f_a.groupby(['Area']).sum())\n",
    "print(L)\n",
    "print(L.nunique())\n",
    "print('The total number of unique countries in the dataset is 49')"
   ]
  },
  {
   "cell_type": "code",
   "execution_count": 7,
   "id": "0174aa91",
   "metadata": {},
   "outputs": [],
   "source": [
    "a=(1,2,5,8)"
   ]
  },
  {
   "cell_type": "code",
   "execution_count": 8,
   "id": "a9af7e0a",
   "metadata": {},
   "outputs": [
    {
     "ename": "TypeError",
     "evalue": "'tuple' object does not support item assignment",
     "output_type": "error",
     "traceback": [
      "\u001b[1;31m---------------------------------------------------------------------------\u001b[0m",
      "\u001b[1;31mTypeError\u001b[0m                                 Traceback (most recent call last)",
      "\u001b[1;32m~\\AppData\\Local\\Temp\\ipykernel_7852\\317900761.py\u001b[0m in \u001b[0;36m<module>\u001b[1;34m\u001b[0m\n\u001b[1;32m----> 1\u001b[1;33m \u001b[0ma\u001b[0m\u001b[1;33m[\u001b[0m\u001b[1;36m2\u001b[0m\u001b[1;33m]\u001b[0m\u001b[1;33m=\u001b[0m\u001b[1;36m6\u001b[0m\u001b[1;33m\u001b[0m\u001b[1;33m\u001b[0m\u001b[0m\n\u001b[0m",
      "\u001b[1;31mTypeError\u001b[0m: 'tuple' object does not support item assignment"
     ]
    }
   ],
   "source": [
    "a[2]=6"
   ]
  },
  {
   "cell_type": "code",
   "execution_count": null,
   "id": "02903f5b",
   "metadata": {},
   "outputs": [],
   "source": [
    "y = [(2, 4), (7, 8), (1, 5, 9)]"
   ]
  },
  {
   "cell_type": "code",
   "execution_count": 10,
   "id": "40b2d9d4",
   "metadata": {},
   "outputs": [],
   "source": [
    "S = [['him', 'sell'], [90, 28, 43]]"
   ]
  },
  {
   "cell_type": "code",
   "execution_count": 11,
   "id": "ac424585",
   "metadata": {},
   "outputs": [
    {
     "data": {
      "text/plain": [
       "'e'"
      ]
     },
     "execution_count": 11,
     "metadata": {},
     "output_type": "execute_result"
    }
   ],
   "source": [
    "S[0][1][1]"
   ]
  },
  {
   "cell_type": "code",
   "execution_count": 12,
   "id": "93f6e23d",
   "metadata": {},
   "outputs": [
    {
     "data": {
      "text/html": [
       "<div>\n",
       "<style scoped>\n",
       "    .dataframe tbody tr th:only-of-type {\n",
       "        vertical-align: middle;\n",
       "    }\n",
       "\n",
       "    .dataframe tbody tr th {\n",
       "        vertical-align: top;\n",
       "    }\n",
       "\n",
       "    .dataframe thead th {\n",
       "        text-align: right;\n",
       "    }\n",
       "</style>\n",
       "<table border=\"1\" class=\"dataframe\">\n",
       "  <thead>\n",
       "    <tr style=\"text-align: right;\">\n",
       "      <th></th>\n",
       "    </tr>\n",
       "  </thead>\n",
       "  <tbody>\n",
       "  </tbody>\n",
       "</table>\n",
       "</div>"
      ],
      "text/plain": [
       "Empty DataFrame\n",
       "Columns: []\n",
       "Index: []"
      ]
     },
     "execution_count": 12,
     "metadata": {},
     "output_type": "execute_result"
    }
   ],
   "source": [
    "pd.DataFrame()"
   ]
  },
  {
   "cell_type": "code",
   "execution_count": 13,
   "id": "3bd5a05a",
   "metadata": {},
   "outputs": [
    {
     "ename": "AttributeError",
     "evalue": "module 'pandas' has no attribute 'Dataframe'",
     "output_type": "error",
     "traceback": [
      "\u001b[1;31m---------------------------------------------------------------------------\u001b[0m",
      "\u001b[1;31mAttributeError\u001b[0m                            Traceback (most recent call last)",
      "\u001b[1;32m~\\AppData\\Local\\Temp\\ipykernel_7852\\2444597858.py\u001b[0m in \u001b[0;36m<module>\u001b[1;34m\u001b[0m\n\u001b[1;32m----> 1\u001b[1;33m \u001b[0mpd\u001b[0m\u001b[1;33m.\u001b[0m\u001b[0mDataframe\u001b[0m\u001b[1;33m(\u001b[0m\u001b[1;33m)\u001b[0m\u001b[1;33m\u001b[0m\u001b[1;33m\u001b[0m\u001b[0m\n\u001b[0m",
      "\u001b[1;32m~\\Anaconda3\\lib\\site-packages\\pandas\\__init__.py\u001b[0m in \u001b[0;36m__getattr__\u001b[1;34m(name)\u001b[0m\n\u001b[0;32m    259\u001b[0m         \u001b[1;32mreturn\u001b[0m \u001b[0m_SparseArray\u001b[0m\u001b[1;33m\u001b[0m\u001b[1;33m\u001b[0m\u001b[0m\n\u001b[0;32m    260\u001b[0m \u001b[1;33m\u001b[0m\u001b[0m\n\u001b[1;32m--> 261\u001b[1;33m     \u001b[1;32mraise\u001b[0m \u001b[0mAttributeError\u001b[0m\u001b[1;33m(\u001b[0m\u001b[1;34mf\"module 'pandas' has no attribute '{name}'\"\u001b[0m\u001b[1;33m)\u001b[0m\u001b[1;33m\u001b[0m\u001b[1;33m\u001b[0m\u001b[0m\n\u001b[0m\u001b[0;32m    262\u001b[0m \u001b[1;33m\u001b[0m\u001b[0m\n\u001b[0;32m    263\u001b[0m \u001b[1;33m\u001b[0m\u001b[0m\n",
      "\u001b[1;31mAttributeError\u001b[0m: module 'pandas' has no attribute 'Dataframe'"
     ]
    }
   ],
   "source": [
    "pd.Dataframe()"
   ]
  },
  {
   "cell_type": "code",
   "execution_count": null,
   "id": "7e14f7bf",
   "metadata": {},
   "outputs": [],
   "source": []
  }
 ],
 "metadata": {
  "kernelspec": {
   "display_name": "Python 3 (ipykernel)",
   "language": "python",
   "name": "python3"
  },
  "language_info": {
   "codemirror_mode": {
    "name": "ipython",
    "version": 3
   },
   "file_extension": ".py",
   "mimetype": "text/x-python",
   "name": "python",
   "nbconvert_exporter": "python",
   "pygments_lexer": "ipython3",
   "version": "3.9.13"
  }
 },
 "nbformat": 4,
 "nbformat_minor": 5
}
